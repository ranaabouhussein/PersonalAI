{
 "cells": [
  {
   "cell_type": "code",
   "execution_count": 1,
   "id": "fe3fae12",
   "metadata": {},
   "outputs": [],
   "source": [
    "# pip install dotenv\n",
    "# %pip install pyTelegramBotAPI\n",
    "# %pip install git+https://github.com/huggingface/transformers.git\n",
    "# %pip install accelerate\n"
   ]
  },
  {
   "cell_type": "code",
   "execution_count": 2,
   "id": "288ddf31",
   "metadata": {},
   "outputs": [],
   "source": [
    "import os\n",
    "from dotenv import load_dotenv\n",
    "import telebot\n",
    "import torch\n",
    "from transformers import pipeline"
   ]
  },
  {
   "cell_type": "code",
   "execution_count": 3,
   "id": "6b4033f2",
   "metadata": {},
   "outputs": [],
   "source": [
    "# Load the .env file\n",
    "load_dotenv(\"environment.env\")\n",
    "\n",
    "# Access the BOT_TOKEN variable\n",
    "BOT_TOKEN = os.getenv(\"BOT_TOKEN\")\n",
    "bot = telebot.TeleBot(BOT_TOKEN)"
   ]
  },
  {
   "cell_type": "code",
   "execution_count": 4,
   "id": "e1f17668",
   "metadata": {},
   "outputs": [],
   "source": [
    "@bot.message_handler(commands=['start', 'hello', 'hi'])\n",
    "def send_welcome(message):\n",
    "    bot.reply_to(message, \"hi, how can i help?\")\n"
   ]
  },
  {
   "cell_type": "code",
   "execution_count": null,
   "id": "50579cd3",
   "metadata": {},
   "outputs": [
    {
     "name": "stderr",
     "output_type": "stream",
     "text": [
      "Device set to use cuda:0\n"
     ]
    }
   ],
   "source": [
    "pipe = pipeline(\n",
    "    \"text-generation\",\n",
    "    model=\"TinyLlama/TinyLlama-1.1B-Chat-v1.0\",\n",
    "    torch_dtype=torch.bfloat16,\n",
    "    device=0 if torch.cuda.is_available() else -1 \n",
    ")\n",
    "\n",
    "@bot.message_handler(func=lambda msg: True)\n",
    "def echo_all(message):\n",
    "    prompt = pipe.tokenizer.apply_chat_template(\n",
    "        [\n",
    "            {\"role\": \"system\", \"content\": \"You are a friendly chatbot who always responds in the style of an expert\"},\n",
    "            {\"role\": \"user\", \"content\": message.text},\n",
    "        ],\n",
    "        tokenize=False,\n",
    "        add_generation_prompt=True\n",
    "    )\n",
    "    outputs = pipe(prompt, max_new_tokens=256, do_sample=True, temperature=0.7, top_k=50, top_p=0.95)\n",
    "\n",
    "    generated_text = outputs[0][\"generated_text\"]\n",
    "    assistant_response = generated_text.split(\"<|assistant|>\")[-1].strip()\n",
    "\n",
    "    bot.reply_to(message, assistant_response)\n",
    "\n",
    "# Run the bot\n",
    "bot.infinity_polling()"
   ]
  },
  {
   "cell_type": "code",
   "execution_count": null,
   "id": "0c660f4e",
   "metadata": {},
   "outputs": [],
   "source": []
  }
 ],
 "metadata": {
  "kernelspec": {
   "display_name": "gp",
   "language": "python",
   "name": "python3"
  },
  "language_info": {
   "codemirror_mode": {
    "name": "ipython",
    "version": 3
   },
   "file_extension": ".py",
   "mimetype": "text/x-python",
   "name": "python",
   "nbconvert_exporter": "python",
   "pygments_lexer": "ipython3",
   "version": "3.9.19"
  }
 },
 "nbformat": 4,
 "nbformat_minor": 5
}
